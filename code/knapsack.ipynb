{
 "metadata": {
  "language_info": {
   "codemirror_mode": {
    "name": "ipython",
    "version": 3
   },
   "file_extension": ".py",
   "mimetype": "text/x-python",
   "name": "python",
   "nbconvert_exporter": "python",
   "pygments_lexer": "ipython3",
   "version": "3.8.3-final"
  },
  "orig_nbformat": 2,
  "kernelspec": {
   "name": "python3",
   "display_name": "Python 3",
   "language": "python"
  }
 },
 "nbformat": 4,
 "nbformat_minor": 2,
 "cells": [
  {
   "cell_type": "code",
   "execution_count": null,
   "metadata": {},
   "outputs": [],
   "source": [
    "from gurobipy import *"
   ]
  },
  {
   "source": [
    "'''\n",
    "Estrutura do arquivo: \n",
    "3     | n = Número de itens da mochila\n",
    "5 7 2 | p = Valor do item Xi\n",
    "9 1 5 | w = Peso do item Xi\n",
    "15    | c = Capacidade da mochila\n",
    "'''"
   ],
   "cell_type": "code",
   "metadata": {},
   "execution_count": 27,
   "outputs": [
    {
     "output_type": "execute_result",
     "data": {
      "text/plain": [
       "'\\nEstrutura do arquivo: \\n3     | n = Número de itens da mochila\\n5 7 2 | p = Valor do item Xi\\n9 1 5 | w = Peso do item Xi\\n15    | c = Capacidade da mochila\\n'"
      ]
     },
     "metadata": {},
     "execution_count": 27
    }
   ]
  },
  {
   "cell_type": "code",
   "execution_count": 28,
   "metadata": {},
   "outputs": [],
   "source": [
    "path = 'data/knapsack.txt'\n",
    "\n",
    "with open(path) as file:\n",
    "    # Parse int\n",
    "    n = int(file.readline())\n",
    "    p = [int(x) for x in file.readline().split()]\n",
    "    w = [int(x) for x in file.readline().split()]\n",
    "    c = int(file.readline())"
   ]
  },
  {
   "cell_type": "code",
   "execution_count": 29,
   "metadata": {},
   "outputs": [
    {
     "output_type": "stream",
     "name": "stdout",
     "text": [
      "7\n[6, 5, 8, 9, 6, 7, 3]\n[2, 3, 6, 7, 5, 9, 4]\n9\n"
     ]
    }
   ],
   "source": [
    "for item in [n, p, w, c]:\n",
    "    print(item)"
   ]
  },
  {
   "cell_type": "code",
   "execution_count": 30,
   "metadata": {},
   "outputs": [
    {
     "output_type": "stream",
     "name": "stdout",
     "text": [
      "Using license file C:\\Users\\mareg\\gurobi.lic\n",
      "Academic license - for non-commercial use only - expires 2021-01-25\n"
     ]
    }
   ],
   "source": [
    "m = Model()\n",
    "x = m.addVars(n, lb=0, ub=1, name='x')"
   ]
  },
  {
   "cell_type": "code",
   "execution_count": 31,
   "metadata": {},
   "outputs": [],
   "source": [
    "x = m.addVars(n, lb=0, ub=1, name='x')"
   ]
  },
  {
   "cell_type": "code",
   "execution_count": 32,
   "metadata": {},
   "outputs": [
    {
     "output_type": "execute_result",
     "data": {
      "text/plain": [
       "<gurobi.Constr *Awaiting Model Update*>"
      ]
     },
     "metadata": {},
     "execution_count": 32
    }
   ],
   "source": [
    "m.addConstr((x.prod(w)) <= c, name='knapsack')"
   ]
  },
  {
   "cell_type": "code",
   "execution_count": 33,
   "metadata": {},
   "outputs": [],
   "source": [
    "m.setObjective(x.prod(p), GRB.MAXIMIZE)"
   ]
  },
  {
   "cell_type": "code",
   "execution_count": 34,
   "metadata": {},
   "outputs": [
    {
     "output_type": "stream",
     "name": "stdout",
     "text": [
      "Gurobi Optimizer version 9.1.0 build v9.1.0rc0 (win64)\n",
      "Thread count: 2 physical cores, 4 logical processors, using up to 4 threads\n",
      "Optimize a model with 1 rows, 7 columns and 7 nonzeros\n",
      "Model fingerprint: 0xb6025d3d\n",
      "Coefficient statistics:\n",
      "  Matrix range     [2e+00, 9e+00]\n",
      "  Objective range  [3e+00, 9e+00]\n",
      "  Bounds range     [1e+00, 1e+00]\n",
      "  RHS range        [9e+00, 9e+00]\n",
      "Presolve removed 0 rows and 1 columns\n",
      "Presolve time: 0.01s\n",
      "Presolved: 1 rows, 6 columns, 6 nonzeros\n",
      "\n",
      "Iteration    Objective       Primal Inf.    Dual Inf.      Time\n",
      "       0    2.7000000e+01   4.375000e-01   0.000000e+00      0s\n",
      "       1    1.6333333e+01   0.000000e+00   0.000000e+00      0s\n",
      "\n",
      "Solved in 1 iterations and 0.01 seconds\n",
      "Optimal objective  1.633333333e+01\n"
     ]
    }
   ],
   "source": [
    "m.optimize()"
   ]
  }
 ]
}