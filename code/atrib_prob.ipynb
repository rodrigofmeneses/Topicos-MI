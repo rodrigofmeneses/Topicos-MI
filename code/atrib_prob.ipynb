{
 "metadata": {
  "language_info": {
   "codemirror_mode": {
    "name": "ipython",
    "version": 3
   },
   "file_extension": ".py",
   "mimetype": "text/x-python",
   "name": "python",
   "nbconvert_exporter": "python",
   "pygments_lexer": "ipython3",
   "version": "3.8.3-final"
  },
  "orig_nbformat": 2,
  "kernelspec": {
   "name": "python3",
   "display_name": "Python 3",
   "language": "python"
  }
 },
 "nbformat": 4,
 "nbformat_minor": 2,
 "cells": [
  {
   "cell_type": "code",
   "execution_count": 1,
   "metadata": {},
   "outputs": [],
   "source": [
    "from gurobipy import *"
   ]
  },
  {
   "cell_type": "code",
   "execution_count": 2,
   "metadata": {},
   "outputs": [],
   "source": [
    "# Conjuntos: recursos e trabalhos\n",
    "I = ['Carlos', 'Jonas', 'Monica']\n",
    "J = ['Cientista', 'Desenvolvedor', 'Arquiteto']"
   ]
  },
  {
   "cell_type": "code",
   "execution_count": 3,
   "metadata": {},
   "outputs": [],
   "source": [
    "key, perc = multidict({\n",
    "    ('Carlos', 'Cientista') : 53,\n",
    "    ('Carlos', 'Desenvolvedor') : 27,\n",
    "    ('Carlos', 'Arquiteto') : 13,\n",
    "    ('Jonas', 'Cientista') : 80,\n",
    "    ('Jonas', 'Desenvolvedor') : 47,\n",
    "    ('Jonas', 'Arquiteto') : 67,\n",
    "    ('Monica', 'Cientista') : 53,\n",
    "    ('Monica', 'Desenvolvedor') : 73,\n",
    "    ('Monica', 'Arquiteto') : 47\n",
    "})"
   ]
  },
  {
   "cell_type": "code",
   "execution_count": 4,
   "metadata": {},
   "outputs": [
    {
     "output_type": "stream",
     "name": "stdout",
     "text": [
      "Using license file C:\\Users\\mareg\\gurobi.lic\n",
      "Academic license - for non-commercial use only - expires 2021-01-25\n"
     ]
    }
   ],
   "source": [
    "m = Model('atrib')"
   ]
  },
  {
   "cell_type": "code",
   "execution_count": 5,
   "metadata": {},
   "outputs": [],
   "source": [
    "# adicionando variaveis\n",
    "x = m.addVars(key, vtype=GRB.BINARY, name='x')"
   ]
  },
  {
   "cell_type": "code",
   "execution_count": 6,
   "metadata": {},
   "outputs": [],
   "source": [
    "# adicionando restrições\n",
    "trabalho = m.addConstrs((x.sum('*', j) == 1 for j in J), 'trabalho')"
   ]
  },
  {
   "cell_type": "code",
   "execution_count": 8,
   "metadata": {},
   "outputs": [],
   "source": [
    "# adicionando restrições de recurso\n",
    "pessoa = m.addConstrs((x.sum(i, '*') <= 1 for i in I), 'pessoa')"
   ]
  },
  {
   "cell_type": "code",
   "execution_count": 9,
   "metadata": {},
   "outputs": [],
   "source": [
    "m.setObjective(x.prod(perc), GRB.MAXIMIZE)"
   ]
  },
  {
   "cell_type": "code",
   "execution_count": 10,
   "metadata": {},
   "outputs": [],
   "source": [
    "m.write('model/atrib.lp')"
   ]
  },
  {
   "cell_type": "code",
   "execution_count": 11,
   "metadata": {},
   "outputs": [
    {
     "output_type": "stream",
     "name": "stdout",
     "text": [
      "Gurobi Optimizer version 9.1.0 build v9.1.0rc0 (win64)\n",
      "Thread count: 2 physical cores, 4 logical processors, using up to 4 threads\n",
      "Optimize a model with 6 rows, 9 columns and 18 nonzeros\n",
      "Model fingerprint: 0xb6602fb2\n",
      "Coefficient statistics:\n",
      "  Matrix range     [1e+00, 1e+00]\n",
      "  Objective range  [1e+01, 8e+01]\n",
      "  Bounds range     [0e+00, 0e+00]\n",
      "  RHS range        [1e+00, 1e+00]\n",
      "Presolve time: 0.01s\n",
      "Presolved: 6 rows, 9 columns, 18 nonzeros\n",
      "\n",
      "Iteration    Objective       Primal Inf.    Dual Inf.      Time\n",
      "       0    4.6000000e+32   1.800000e+31   4.600000e+02      0s\n",
      "       5    1.9300000e+02   0.000000e+00   0.000000e+00      0s\n",
      "\n",
      "Solved in 5 iterations and 0.01 seconds\n",
      "Optimal objective  1.930000000e+02\n"
     ]
    }
   ],
   "source": [
    "m.optimize()"
   ]
  },
  {
   "cell_type": "code",
   "execution_count": 13,
   "metadata": {},
   "outputs": [
    {
     "output_type": "stream",
     "name": "stdout",
     "text": [
      "x[Carlos,Cientista] = 1.0\nx[Jonas,Arquiteto] = 1.0\nx[Monica,Desenvolvedor] = 1.0\n"
     ]
    }
   ],
   "source": [
    "# imprimindo solução\n",
    "for var in m.getVars():\n",
    "    if abs(var.x) > 1e-6:\n",
    "        print(var.varName, '=', var.x)"
   ]
  },
  {
   "cell_type": "code",
   "execution_count": 14,
   "metadata": {},
   "outputs": [
    {
     "output_type": "stream",
     "name": "stdout",
     "text": [
      "Percentual total =  193.0\n"
     ]
    }
   ],
   "source": [
    "# Imprimindo valor objetivo\n",
    "print('Percentual total = ', m.objVal)"
   ]
  },
  {
   "cell_type": "code",
   "execution_count": 15,
   "metadata": {},
   "outputs": [],
   "source": [
    "# alterando o cenario. Ana passa a fazer parte da seleção\n",
    "nperc = {('Ana', 'Cientista'): 100,\n",
    "         ('Ana', 'Desenvolvedor'): 100,\n",
    "         ('Ana', 'Arquiteto'): 100\n",
    "}"
   ]
  },
  {
   "cell_type": "code",
   "execution_count": 21,
   "metadata": {},
   "outputs": [],
   "source": [
    "for key, val in nperc.items():\n",
    "    i, j = key\n",
    "    x[key] = m.addVar(obj=val, \n",
    "                      name=f'x[{i}, {j}]',\n",
    "                      column=Column([1], [m.getConstrByName(f'trabalho[{j}]')]))"
   ]
  },
  {
   "cell_type": "code",
   "execution_count": 45,
   "metadata": {},
   "outputs": [
    {
     "output_type": "execute_result",
     "data": {
      "text/plain": [
       "<gurobi.Column: 35.0 trabalho[Desenvolvedor] >"
      ]
     },
     "metadata": {},
     "execution_count": 45
    }
   ],
   "source": []
  }
 ]
}