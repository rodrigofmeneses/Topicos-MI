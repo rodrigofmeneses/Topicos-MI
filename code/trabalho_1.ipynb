{
 "metadata": {
  "language_info": {
   "codemirror_mode": {
    "name": "ipython",
    "version": 3
   },
   "file_extension": ".py",
   "mimetype": "text/x-python",
   "name": "python",
   "nbconvert_exporter": "python",
   "pygments_lexer": "ipython3",
   "version": "3.9.1-final"
  },
  "orig_nbformat": 2,
  "kernelspec": {
   "name": "python3",
   "display_name": "Python 3",
   "language": "python"
  }
 },
 "nbformat": 4,
 "nbformat_minor": 2,
 "cells": [
  {
   "cell_type": "code",
   "execution_count": 1,
   "metadata": {},
   "outputs": [],
   "source": [
    "from gurobipy import *\n",
    "import numpy as np"
   ]
  },
  {
   "cell_type": "code",
   "execution_count": 12,
   "metadata": {},
   "outputs": [],
   "source": [
    "def ler_instancia(path):\n",
    "    with open(path) as r:\n",
    "        num_itens = int(r.readline()) \n",
    "        r.readline() # Linha vazia entre os dados\n",
    "        profits = [int(x) for x in r.readline().split()]\n",
    "        r.readline()\n",
    "        capacity = int(r.readline())\n",
    "        r.readline()\n",
    "        weights = [int(x) for x in r.readline().split()]\n",
    "\n",
    "    return num_itens, profits, capacity, weights"
   ]
  },
  {
   "cell_type": "code",
   "execution_count": 13,
   "metadata": {},
   "outputs": [],
   "source": [
    "num_itens, profits, capacity, weights = ler_instancia('data/instances_knapsack/10/10_100_1.txt')"
   ]
  },
  {
   "cell_type": "code",
   "execution_count": 34,
   "metadata": {},
   "outputs": [
    {
     "output_type": "execute_result",
     "data": {
      "text/plain": [
       "([1, 1, 1, 1, 1, 1, 1, 0.16666666666666666, 1, 1], 308.33333333333337)"
      ]
     },
     "metadata": {},
     "execution_count": 34
    }
   ],
   "source": [
    "def dantzig_relaxado(num_itens, profits, capacity, weights):\n",
    "    '''\n",
    "        Ordene em ordem não-crescente os itens de acordo com a relação pi/wi\n",
    "        Insira itens na mochila tal forma que não exceda a capacidade.\n",
    "        \n",
    "        a solução relaxada não é inteira, é apenas [0, 1] logo\n",
    "        x = [0, 0.4, 0, 1], por exemplo\n",
    "\n",
    "        K é o conjunto de itens na mochila tal que\n",
    "        o somatório para todo i pertencente a K, wi <= c\n",
    "        \n",
    "        definimos xh como item de parada, tal que\n",
    "        (o somatório para todo i pertencente a K, wi) + wk > c \n",
    "        \n",
    "        xk pertence a (0, 1)\n",
    "    '''\n",
    "    # values of itens is relation pi/wi\n",
    "    values = [profits[i] / weights[i] for i in range(num_itens)]\n",
    "    # Ordernar indices em ordem não crecente\n",
    "    arg_sort_reversed = np.argsort(np.array(values))[::-1]\n",
    "\n",
    "    # inicializar variáveis\n",
    "    K = [0] * num_itens\n",
    "    x = [0] * num_itens\n",
    "    curr_capacity = 0\n",
    "\n",
    "    # Preencher mochila\n",
    "    for i in arg_sort_reversed:\n",
    "        # Se a mochila tem capacidade suficiente, insira o item\n",
    "        if weights[i] + curr_capacity <= capacity:\n",
    "            K[i] = 1\n",
    "            x[i] = 1\n",
    "            curr_capacity += weights[i]\n",
    "        # Se não, insira apenas o que for possível\n",
    "        else:\n",
    "            x[i] = (capacity - curr_capacity) / weights[i]\n",
    "\n",
    "    return x, np.array(x) @ np.array(profits)\n",
    "\n",
    "dantzig_relaxado(num_itens, profits, capacity, weights)\n"
   ]
  }
 ]
}