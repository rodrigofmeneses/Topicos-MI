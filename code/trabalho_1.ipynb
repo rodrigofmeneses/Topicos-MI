{
 "metadata": {
  "language_info": {
   "codemirror_mode": {
    "name": "ipython",
    "version": 3
   },
   "file_extension": ".py",
   "mimetype": "text/x-python",
   "name": "python",
   "nbconvert_exporter": "python",
   "pygments_lexer": "ipython3",
   "version": "3.9.1-final"
  },
  "orig_nbformat": 2,
  "kernelspec": {
   "name": "python3",
   "display_name": "Python 3",
   "language": "python"
  }
 },
 "nbformat": 4,
 "nbformat_minor": 2,
 "cells": [
  {
   "source": [
    "### Problem definition\n",
    "### Put itens in a knapsack without exceed your capacity and obtaining maximum profit"
   ],
   "cell_type": "markdown",
   "metadata": {}
  },
  {
   "cell_type": "code",
   "execution_count": 12,
   "metadata": {},
   "outputs": [],
   "source": [
    "# Imports\n",
    "from gurobipy import *\n",
    "import numpy as np"
   ]
  },
  {
   "cell_type": "code",
   "execution_count": 13,
   "metadata": {},
   "outputs": [],
   "source": [
    "# Read Data\n",
    "def read_instance(path):\n",
    "    with open(path) as r:\n",
    "        num_itens = int(r.readline()) \n",
    "        r.readline() # empty line between data\n",
    "        profits = [int(x) for x in r.readline().split()]\n",
    "        r.readline()\n",
    "        capacity = int(r.readline())\n",
    "        r.readline()\n",
    "        weights = [int(x) for x in r.readline().split()]\n",
    "\n",
    "    return num_itens, profits, capacity, weights"
   ]
  },
  {
   "source": [
    "### In this code we implement two algorithms\n",
    "### Relaxed Dantzing, to obtain an upper bound, and\n",
    "### Viable Dantzing, to obtain a lower bound.\n",
    "### And a MIP model with gurobi api"
   ],
   "cell_type": "markdown",
   "metadata": {}
  },
  {
   "cell_type": "code",
   "execution_count": 22,
   "metadata": {},
   "outputs": [],
   "source": [
    "def relaxed_dantzig(num_itens, profits, capacity, weights):\n",
    "    '''\n",
    "        Ordene em ordem não-crescente os itens de acordo com a relação pi/wi\n",
    "        Insira itens na mochila tal forma que não exceda a capacidade.\n",
    "        \n",
    "        a solução relaxada não é inteira, é apenas [0, 1] logo\n",
    "        x = [0, 0.4, 0, 1], por exemplo\n",
    "\n",
    "        K é o conjunto de itens na mochila tal que\n",
    "        o somatório para todo i pertencente a K, wi <= c\n",
    "        \n",
    "        definimos xh como item de parada, tal que\n",
    "        (o somatório para todo i pertencente a K, wi) + wk > c \n",
    "        \n",
    "        xk pertence a (0, 1)\n",
    "    '''\n",
    "    # values of itens is relation pi/wi\n",
    "    values = [profits[i] / weights[i] for i in range(num_itens)]\n",
    "    # Sort index in reversed order\n",
    "    arg_sort_reversed = np.argsort(np.array(values))[::-1]\n",
    "\n",
    "    # initialization of variables\n",
    "    K = np.zeros(num_itens)\n",
    "    x = np.zeros(num_itens)\n",
    "    curr_capacity = 0\n",
    "\n",
    "    # Fill Knapsack\n",
    "    for i in arg_sort_reversed:\n",
    "        # If knapsack has capacity to iten, put on\n",
    "        if weights[i] + curr_capacity <= capacity:\n",
    "            K[i] = 1\n",
    "            x[i] = 1\n",
    "            curr_capacity += weights[i]\n",
    "        # Else, put on maximum possible \n",
    "        else:\n",
    "            x[i] = (capacity - curr_capacity) / weights[i]\n",
    "    # Calculate the cost of solution\n",
    "    obj_value = x @ np.array(profits)\n",
    "    return x, obj_value"
   ]
  },
  {
   "cell_type": "code",
   "execution_count": 33,
   "metadata": {},
   "outputs": [],
   "source": [
    "def viable_dantzig(num_itens, profits, capacity, weights):\n",
    "    '''\n",
    "        Similar to relaxed dantzing, but the solution is binary,\n",
    "        for garantee the viability.\n",
    "    '''\n",
    "    # Relaxed dantzig solution\n",
    "    x, _ = relaxed_dantzig(num_itens, profits, capacity, weights) \n",
    "    \n",
    "    # Transform all index in integer\n",
    "    x = np.floor(x)\n",
    "    # Calculate the cost of solution\n",
    "    obj_value = x @ np.array(profits)\n",
    "    return x, obj_value"
   ]
  },
  {
   "cell_type": "code",
   "execution_count": 40,
   "metadata": {},
   "outputs": [],
   "source": [
    "def gurobi_knapsack(num_itens, profits, capacity, weights):\n",
    "    # Create a model\n",
    "    knap = Model()\n",
    "    # Add variables to model, relaxed [0, 1]\n",
    "    x = knap.addVars(num_itens, lb=0, ub=1, name='x')\n",
    "    # Add capacity constrain to model\n",
    "    knap.addConstr((x.prod(weights)) <= capacity, name='knapsack')\n",
    "    # Set a objective function to model, as Maximize the profit\n",
    "    knap.setObjective(x.prod(profits), GRB.MAXIMIZE)\n",
    "    # Solve the model\n",
    "    knap.optimize()"
   ]
  },
  {
   "source": [
    "### Go to tests!"
   ],
   "cell_type": "markdown",
   "metadata": {}
  },
  {
   "cell_type": "code",
   "execution_count": 37,
   "metadata": {},
   "outputs": [],
   "source": [
    "num_itens, profits, capacity, weights = read_instance('data/instances_knapsack/10/10_100_1.txt')"
   ]
  },
  {
   "cell_type": "code",
   "execution_count": 38,
   "metadata": {},
   "outputs": [
    {
     "output_type": "stream",
     "name": "stdout",
     "text": [
      "x : [1.0, 1.0, 1.0, 1.0, 1.0, 1.0, 1.0, 0.16666666666666666, 1.0, 1.0]\nObjetive Function Value : 308.33333333333337\n"
     ]
    }
   ],
   "source": [
    "x, obj_value = relaxed_dantzig(num_itens, profits, capacity, weights)\n",
    "print('x :', list(x))\n",
    "print('Objetive Function Value :', obj_value)"
   ]
  },
  {
   "cell_type": "code",
   "execution_count": 39,
   "metadata": {},
   "outputs": [
    {
     "output_type": "stream",
     "name": "stdout",
     "text": [
      "x : [1.0, 1.0, 1.0, 1.0, 1.0, 1.0, 1.0, 0.0, 1.0, 1.0]\nObjetive Function Value : 306.0\n"
     ]
    }
   ],
   "source": [
    "x, obj_value = viable_dantzig(num_itens, profits, capacity, weights)\n",
    "print('x :', list(x))\n",
    "print('Objetive Function Value :', obj_value)"
   ]
  },
  {
   "cell_type": "code",
   "execution_count": 41,
   "metadata": {},
   "outputs": [
    {
     "output_type": "stream",
     "name": "stdout",
     "text": [
      "Using license file C:\\Users\\rodri\\gurobi.lic\n",
      "Academic license - for non-commercial use only - expires 2021-02-01\n",
      "Gurobi Optimizer version 9.1.0 build v9.1.0rc0 (win64)\n",
      "Thread count: 6 physical cores, 12 logical processors, using up to 12 threads\n",
      "Optimize a model with 1 rows, 10 columns and 10 nonzeros\n",
      "Model fingerprint: 0xfd168613\n",
      "Coefficient statistics:\n",
      "  Matrix range     [1e+00, 2e+01]\n",
      "  Objective range  [1e+01, 5e+01]\n",
      "  Bounds range     [1e+00, 1e+00]\n",
      "  RHS range        [1e+02, 1e+02]\n",
      "Presolve time: 0.02s\n",
      "Presolved: 1 rows, 10 columns, 10 nonzeros\n",
      "\n",
      "Iteration    Objective       Primal Inf.    Dual Inf.      Time\n",
      "       0    3.0900000e+03   6.375000e+00   0.000000e+00      0s\n",
      "       1    3.0833333e+02   0.000000e+00   0.000000e+00      0s\n",
      "\n",
      "Solved in 1 iterations and 0.04 seconds\n",
      "Optimal objective  3.083333333e+02\n"
     ]
    }
   ],
   "source": [
    "gurobi_knapsack(num_itens, profits, capacity, weights)"
   ]
  },
  {
   "cell_type": "code",
   "execution_count": null,
   "metadata": {},
   "outputs": [],
   "source": []
  }
 ]
}