{
 "metadata": {
  "language_info": {
   "codemirror_mode": {
    "name": "ipython",
    "version": 3
   },
   "file_extension": ".py",
   "mimetype": "text/x-python",
   "name": "python",
   "nbconvert_exporter": "python",
   "pygments_lexer": "ipython3",
   "version": "3.8.3-final"
  },
  "orig_nbformat": 2,
  "kernelspec": {
   "name": "python3",
   "display_name": "Python 3",
   "language": "python"
  }
 },
 "nbformat": 4,
 "nbformat_minor": 2,
 "cells": [
  {
   "source": [
    "### Problem definition\n",
    "### Put itens in a knapsack without exceed your capacity and obtaining maximum profit"
   ],
   "cell_type": "markdown",
   "metadata": {}
  },
  {
   "cell_type": "code",
   "execution_count": null,
   "metadata": {},
   "outputs": [],
   "source": [
    "# Imports\n",
    "from gurobipy import *\n",
    "import numpy as np\n",
    "import pandas as pd\n",
    "import os\n",
    "import time"
   ]
  },
  {
   "cell_type": "code",
   "execution_count": 2,
   "metadata": {},
   "outputs": [],
   "source": [
    "# Read Data\n",
    "def read_instance(path):\n",
    "    with open(path) as r:\n",
    "        num_itens = int(r.readline()) \n",
    "        r.readline() # empty line between data\n",
    "        profits = [int(x) for x in r.readline().split()]\n",
    "        r.readline()\n",
    "        capacity = int(r.readline())\n",
    "        r.readline()\n",
    "        weights = [int(x) for x in r.readline().split()]\n",
    "\n",
    "    return num_itens, profits, capacity, weights"
   ]
  },
  {
   "source": [
    "### In this code we implement two algorithms\n",
    "### Relaxed Dantzing, to obtain an upper bound, and\n",
    "### Viable Dantzing, to obtain a lower bound.\n",
    "### And a MIP model with gurobi api"
   ],
   "cell_type": "markdown",
   "metadata": {}
  },
  {
   "cell_type": "code",
   "execution_count": 3,
   "metadata": {},
   "outputs": [],
   "source": [
    "def relaxed_dantzig(num_itens, profits, capacity, weights):\n",
    "    '''\n",
    "        Ordene em ordem não-crescente os itens de acordo com a relação pi/wi\n",
    "        Insira itens na mochila tal forma que não exceda a capacidade.\n",
    "        \n",
    "        a solução relaxada não é inteira, é apenas [0, 1] logo\n",
    "        x = [0, 0.4, 0, 1], por exemplo\n",
    "\n",
    "        K é o conjunto de itens na mochila tal que\n",
    "        o somatório para todo i pertencente a K, wi <= c\n",
    "        \n",
    "        definimos xh como item de parada, tal que\n",
    "        (o somatório para todo i pertencente a K, wi) + wk > c \n",
    "        \n",
    "        xk pertence a (0, 1)\n",
    "    '''\n",
    "    # values of itens is relation pi/wi\n",
    "    values = [profits[i] / weights[i] for i in range(num_itens)]\n",
    "    # Sort index in reversed order\n",
    "    arg_sort_reversed = np.argsort(np.array(values))[::-1]\n",
    "\n",
    "    # initialization of variables\n",
    "    K = np.zeros(num_itens)\n",
    "    x = np.zeros(num_itens)\n",
    "    curr_capacity = 0\n",
    "\n",
    "    # Fill Knapsack\n",
    "    for i in arg_sort_reversed:\n",
    "        # If knapsack has capacity to iten, put on\n",
    "        if weights[i] + curr_capacity <= capacity:\n",
    "            K[i] = 1\n",
    "            x[i] = 1\n",
    "            curr_capacity += weights[i]\n",
    "        # Else, put on maximum possible \n",
    "        else:\n",
    "            x[i] = (capacity - curr_capacity) / weights[i]\n",
    "    # Calculate the cost of solution\n",
    "    obj_value = x @ np.array(profits)\n",
    "    return x, obj_value"
   ]
  },
  {
   "cell_type": "code",
   "execution_count": 4,
   "metadata": {},
   "outputs": [],
   "source": [
    "def viable_dantzig(num_itens, profits, capacity, weights):\n",
    "    '''\n",
    "        Similar to relaxed dantzing, but the solution is binary,\n",
    "        for garantee the viability.\n",
    "    '''\n",
    "    # Relaxed dantzig solution\n",
    "    x, _ = relaxed_dantzig(num_itens, profits, capacity, weights) \n",
    "    \n",
    "    # Transform all index in integer\n",
    "    x = np.floor(x)\n",
    "    # Calculate the cost of solution\n",
    "    obj_value = x @ np.array(profits)\n",
    "    return x, obj_value"
   ]
  },
  {
   "cell_type": "code",
   "execution_count": 5,
   "metadata": {},
   "outputs": [],
   "source": [
    "def gurobi_knapsack(num_itens, profits, capacity, weights):\n",
    "    # Create a model\n",
    "    knap = Model()\n",
    "    # Supress output log\n",
    "    knap.setParam('OutputFlag', 0)\n",
    "    # Add variables to model, relaxed [0, 1]\n",
    "    x = knap.addVars(num_itens, lb=0, ub=1, name='x')\n",
    "    # Add capacity constrain to model\n",
    "    knap.addConstr((x.prod(weights)) <= capacity, name='knapsack')\n",
    "    # Set a objective function to model, as Maximize the profit\n",
    "    knap.setObjective(x.prod(profits), GRB.MAXIMIZE)\n",
    "    # Solve the model\n",
    "    knap.optimize()\n",
    "\n",
    "    return knap.X, knap.ObjVal"
   ]
  },
  {
   "source": [
    "### Go to tests!"
   ],
   "cell_type": "markdown",
   "metadata": {}
  },
  {
   "cell_type": "code",
   "execution_count": 6,
   "metadata": {},
   "outputs": [],
   "source": [
    "num_itens, profits, capacity, weights = read_instance('data/instances_knapsack/10/10_100_1.txt')"
   ]
  },
  {
   "cell_type": "code",
   "execution_count": 7,
   "metadata": {},
   "outputs": [
    {
     "output_type": "stream",
     "name": "stdout",
     "text": [
      "x : [1.0, 1.0, 1.0, 1.0, 1.0, 1.0, 1.0, 0.16666666666666666, 1.0, 1.0]\nObjetive Function Value : 308.33333333333337\n"
     ]
    }
   ],
   "source": [
    "x, obj_value = relaxed_dantzig(num_itens, profits, capacity, weights)\n",
    "print('x :', list(x))\n",
    "print('Objetive Function Value :', obj_value)"
   ]
  },
  {
   "cell_type": "code",
   "execution_count": 8,
   "metadata": {},
   "outputs": [
    {
     "output_type": "stream",
     "name": "stdout",
     "text": [
      "x : [1.0, 1.0, 1.0, 1.0, 1.0, 1.0, 1.0, 0.0, 1.0, 1.0]\nObjetive Function Value : 306.0\n"
     ]
    }
   ],
   "source": [
    "x, obj_value = viable_dantzig(num_itens, profits, capacity, weights)\n",
    "print('x :', list(x))\n",
    "print('Objetive Function Value :', obj_value)"
   ]
  },
  {
   "cell_type": "code",
   "execution_count": 9,
   "metadata": {},
   "outputs": [
    {
     "output_type": "stream",
     "name": "stdout",
     "text": [
      "\n",
      "--------------------------------------------\n",
      "Warning: your license will expire in 14 days\n",
      "--------------------------------------------\n",
      "\n",
      "Using license file C:\\Users\\mareg\\gurobi.lic\n",
      "Academic license - for non-commercial use only - expires 2021-01-25\n",
      "x : [1.0, 1.0, 1.0, 1.0, 1.0, 1.0, 1.0, 0.16666666666666666, 1.0, 1.0]\n",
      "Objetive Function Value : 308.33333333333337\n"
     ]
    }
   ],
   "source": [
    "x, obj_value = gurobi_knapsack(num_itens, profits, capacity, weights)\n",
    "print('x :', list(x))\n",
    "print('Objetive Function Value :', obj_value)"
   ]
  },
  {
   "source": [
    "### Go to experiments with all instances!"
   ],
   "cell_type": "markdown",
   "metadata": {}
  },
  {
   "cell_type": "code",
   "execution_count": 10,
   "metadata": {},
   "outputs": [],
   "source": [
    "def experiments_with(file_path, method):\n",
    "    num_itens, profits, capacity, weights = read_instance(file_path)\n",
    "\n",
    "    if method is 'relaxed_dantzig':\n",
    "        x, obj_value = relaxed_dantzig(num_itens, profits, capacity, weights)\n",
    "    elif method is 'viable_dantzig':\n",
    "        x, obj_value = viable_dantzig(num_itens, profits, capacity, weights)\n",
    "    elif method is 'gurobi_knapsack':\n",
    "        x, obj_value = gurobi_knapsack(num_itens, profits, capacity, weights)\n",
    "    else:\n",
    "        print('Invalid Method')\n",
    "        return False\n",
    "    \n",
    "    return x, obj_value"
   ]
  },
  {
   "cell_type": "code",
   "execution_count": 11,
   "metadata": {},
   "outputs": [],
   "source": [
    "def run():\n",
    "    folders = os.listdir('data/instances_knapsack')\n",
    "\n",
    "    result = open(f'results/trabalho1/{time.time_ns()}.csv', 'w')\n",
    "    result.write('instance_name,relaxed_cost,viable_cost,gurobi_cost')\n",
    "    \n",
    "    methods = ['relaxed_dantzig', 'viable_dantzig', 'gurobi_knapsack']\n",
    "    \n",
    "    for folder in folders:\n",
    "        for instance in os.listdir(f'data/instances_knapsack/{folder}'):\n",
    "            file_path = f'data/instances_knapsack/{folder}/{instance}'\n",
    "            result.write('\\n' + instance)\n",
    "            for method in methods:\n",
    "                _, cost = experiments_with(file_path, method)\n",
    "                result.write(',' + str(cost))\n",
    "    result.close()"
   ]
  },
  {
   "cell_type": "code",
   "execution_count": 12,
   "metadata": {},
   "outputs": [],
   "source": [
    "run()"
   ]
  },
  {
   "cell_type": "code",
   "execution_count": 13,
   "metadata": {},
   "outputs": [
    {
     "output_type": "execute_result",
     "data": {
      "text/plain": [
       "     instance_name  relaxed_cost  viable_cost  gurobi_cost\n",
       "0     10_100_1.txt    308.333333        306.0   308.333333\n",
       "1    10_100_10.txt    302.160606        245.0   258.227273\n",
       "2     10_100_2.txt    287.444444        287.0   287.444444\n",
       "3     10_100_3.txt    244.236364        223.0   231.636364\n",
       "4     10_100_4.txt    270.500000        269.0   270.500000\n",
       "5     10_100_5.txt    241.529412        234.0   238.529412\n",
       "6     10_100_6.txt    201.235294        197.0   201.235294\n",
       "7     10_100_7.txt    316.520000        313.0   316.520000\n",
       "8     10_100_8.txt    180.636364        163.0   170.500000\n",
       "9     10_100_9.txt    235.640523        229.0   232.529412\n",
       "10   100_100_1.txt   2262.662658       2250.0  2251.500000\n",
       "11  100_100_10.txt   1262.651675       1176.0  1178.916667\n",
       "12   100_100_2.txt   2307.496691       2186.0  2191.560000\n",
       "13   100_100_3.txt   2411.833333       2385.0  2385.500000\n",
       "14   100_100_4.txt   1172.085097       1050.0  1053.500000\n",
       "15   100_100_5.txt   2397.919447       2348.0  2352.227273\n",
       "16   100_100_6.txt   2344.769727       2275.0  2278.600000\n",
       "17   100_100_7.txt   2072.251605       2056.0  2057.666667\n",
       "18   100_100_8.txt   1134.191663        989.0   994.666667\n",
       "19   100_100_9.txt   2344.195376       2313.0  2314.416667\n",
       "20   200_100_1.txt   4377.000000       4377.0  4377.000000\n",
       "21  200_100_10.txt   4094.694736       3946.0  3948.470588\n",
       "22   200_100_2.txt   3436.000000       3436.0  3436.000000\n",
       "23   200_100_3.txt   3540.778068       3438.0  3439.421053\n",
       "24   200_100_4.txt   5505.925468       5463.0  5465.320000\n",
       "25   200_100_5.txt   4176.898377       4058.0  4060.000000\n",
       "26   200_100_6.txt   1637.264039       1476.0  1479.454545\n",
       "27   200_100_7.txt   4941.000000       4941.0  4941.000000\n",
       "28   200_100_8.txt   4362.283424       4249.0  4253.434783\n",
       "29   200_100_9.txt   4741.592632       4714.0  4715.130435\n",
       "30    50_100_1.txt   1252.961169       1241.0  1242.333333\n",
       "31   50_100_10.txt   1146.000000       1130.0  1130.000000\n",
       "32    50_100_2.txt   1269.218989       1257.0  1260.764706\n",
       "33    50_100_3.txt    792.695537        678.0   683.571429\n",
       "34    50_100_4.txt    946.599051        793.0   798.720000\n",
       "35    50_100_5.txt   1210.850490       1205.0  1206.333333\n",
       "36    50_100_6.txt   1348.887952       1212.0  1224.304348\n",
       "37    50_100_7.txt    684.000000        684.0   684.000000\n",
       "38    50_100_8.txt    761.942667        741.0   742.625000\n",
       "39    50_100_9.txt   1211.587550       1199.0  1202.826087"
      ],
      "text/html": "<div>\n<style scoped>\n    .dataframe tbody tr th:only-of-type {\n        vertical-align: middle;\n    }\n\n    .dataframe tbody tr th {\n        vertical-align: top;\n    }\n\n    .dataframe thead th {\n        text-align: right;\n    }\n</style>\n<table border=\"1\" class=\"dataframe\">\n  <thead>\n    <tr style=\"text-align: right;\">\n      <th></th>\n      <th>instance_name</th>\n      <th>relaxed_cost</th>\n      <th>viable_cost</th>\n      <th>gurobi_cost</th>\n    </tr>\n  </thead>\n  <tbody>\n    <tr>\n      <th>0</th>\n      <td>10_100_1.txt</td>\n      <td>308.333333</td>\n      <td>306.0</td>\n      <td>308.333333</td>\n    </tr>\n    <tr>\n      <th>1</th>\n      <td>10_100_10.txt</td>\n      <td>302.160606</td>\n      <td>245.0</td>\n      <td>258.227273</td>\n    </tr>\n    <tr>\n      <th>2</th>\n      <td>10_100_2.txt</td>\n      <td>287.444444</td>\n      <td>287.0</td>\n      <td>287.444444</td>\n    </tr>\n    <tr>\n      <th>3</th>\n      <td>10_100_3.txt</td>\n      <td>244.236364</td>\n      <td>223.0</td>\n      <td>231.636364</td>\n    </tr>\n    <tr>\n      <th>4</th>\n      <td>10_100_4.txt</td>\n      <td>270.500000</td>\n      <td>269.0</td>\n      <td>270.500000</td>\n    </tr>\n    <tr>\n      <th>5</th>\n      <td>10_100_5.txt</td>\n      <td>241.529412</td>\n      <td>234.0</td>\n      <td>238.529412</td>\n    </tr>\n    <tr>\n      <th>6</th>\n      <td>10_100_6.txt</td>\n      <td>201.235294</td>\n      <td>197.0</td>\n      <td>201.235294</td>\n    </tr>\n    <tr>\n      <th>7</th>\n      <td>10_100_7.txt</td>\n      <td>316.520000</td>\n      <td>313.0</td>\n      <td>316.520000</td>\n    </tr>\n    <tr>\n      <th>8</th>\n      <td>10_100_8.txt</td>\n      <td>180.636364</td>\n      <td>163.0</td>\n      <td>170.500000</td>\n    </tr>\n    <tr>\n      <th>9</th>\n      <td>10_100_9.txt</td>\n      <td>235.640523</td>\n      <td>229.0</td>\n      <td>232.529412</td>\n    </tr>\n    <tr>\n      <th>10</th>\n      <td>100_100_1.txt</td>\n      <td>2262.662658</td>\n      <td>2250.0</td>\n      <td>2251.500000</td>\n    </tr>\n    <tr>\n      <th>11</th>\n      <td>100_100_10.txt</td>\n      <td>1262.651675</td>\n      <td>1176.0</td>\n      <td>1178.916667</td>\n    </tr>\n    <tr>\n      <th>12</th>\n      <td>100_100_2.txt</td>\n      <td>2307.496691</td>\n      <td>2186.0</td>\n      <td>2191.560000</td>\n    </tr>\n    <tr>\n      <th>13</th>\n      <td>100_100_3.txt</td>\n      <td>2411.833333</td>\n      <td>2385.0</td>\n      <td>2385.500000</td>\n    </tr>\n    <tr>\n      <th>14</th>\n      <td>100_100_4.txt</td>\n      <td>1172.085097</td>\n      <td>1050.0</td>\n      <td>1053.500000</td>\n    </tr>\n    <tr>\n      <th>15</th>\n      <td>100_100_5.txt</td>\n      <td>2397.919447</td>\n      <td>2348.0</td>\n      <td>2352.227273</td>\n    </tr>\n    <tr>\n      <th>16</th>\n      <td>100_100_6.txt</td>\n      <td>2344.769727</td>\n      <td>2275.0</td>\n      <td>2278.600000</td>\n    </tr>\n    <tr>\n      <th>17</th>\n      <td>100_100_7.txt</td>\n      <td>2072.251605</td>\n      <td>2056.0</td>\n      <td>2057.666667</td>\n    </tr>\n    <tr>\n      <th>18</th>\n      <td>100_100_8.txt</td>\n      <td>1134.191663</td>\n      <td>989.0</td>\n      <td>994.666667</td>\n    </tr>\n    <tr>\n      <th>19</th>\n      <td>100_100_9.txt</td>\n      <td>2344.195376</td>\n      <td>2313.0</td>\n      <td>2314.416667</td>\n    </tr>\n    <tr>\n      <th>20</th>\n      <td>200_100_1.txt</td>\n      <td>4377.000000</td>\n      <td>4377.0</td>\n      <td>4377.000000</td>\n    </tr>\n    <tr>\n      <th>21</th>\n      <td>200_100_10.txt</td>\n      <td>4094.694736</td>\n      <td>3946.0</td>\n      <td>3948.470588</td>\n    </tr>\n    <tr>\n      <th>22</th>\n      <td>200_100_2.txt</td>\n      <td>3436.000000</td>\n      <td>3436.0</td>\n      <td>3436.000000</td>\n    </tr>\n    <tr>\n      <th>23</th>\n      <td>200_100_3.txt</td>\n      <td>3540.778068</td>\n      <td>3438.0</td>\n      <td>3439.421053</td>\n    </tr>\n    <tr>\n      <th>24</th>\n      <td>200_100_4.txt</td>\n      <td>5505.925468</td>\n      <td>5463.0</td>\n      <td>5465.320000</td>\n    </tr>\n    <tr>\n      <th>25</th>\n      <td>200_100_5.txt</td>\n      <td>4176.898377</td>\n      <td>4058.0</td>\n      <td>4060.000000</td>\n    </tr>\n    <tr>\n      <th>26</th>\n      <td>200_100_6.txt</td>\n      <td>1637.264039</td>\n      <td>1476.0</td>\n      <td>1479.454545</td>\n    </tr>\n    <tr>\n      <th>27</th>\n      <td>200_100_7.txt</td>\n      <td>4941.000000</td>\n      <td>4941.0</td>\n      <td>4941.000000</td>\n    </tr>\n    <tr>\n      <th>28</th>\n      <td>200_100_8.txt</td>\n      <td>4362.283424</td>\n      <td>4249.0</td>\n      <td>4253.434783</td>\n    </tr>\n    <tr>\n      <th>29</th>\n      <td>200_100_9.txt</td>\n      <td>4741.592632</td>\n      <td>4714.0</td>\n      <td>4715.130435</td>\n    </tr>\n    <tr>\n      <th>30</th>\n      <td>50_100_1.txt</td>\n      <td>1252.961169</td>\n      <td>1241.0</td>\n      <td>1242.333333</td>\n    </tr>\n    <tr>\n      <th>31</th>\n      <td>50_100_10.txt</td>\n      <td>1146.000000</td>\n      <td>1130.0</td>\n      <td>1130.000000</td>\n    </tr>\n    <tr>\n      <th>32</th>\n      <td>50_100_2.txt</td>\n      <td>1269.218989</td>\n      <td>1257.0</td>\n      <td>1260.764706</td>\n    </tr>\n    <tr>\n      <th>33</th>\n      <td>50_100_3.txt</td>\n      <td>792.695537</td>\n      <td>678.0</td>\n      <td>683.571429</td>\n    </tr>\n    <tr>\n      <th>34</th>\n      <td>50_100_4.txt</td>\n      <td>946.599051</td>\n      <td>793.0</td>\n      <td>798.720000</td>\n    </tr>\n    <tr>\n      <th>35</th>\n      <td>50_100_5.txt</td>\n      <td>1210.850490</td>\n      <td>1205.0</td>\n      <td>1206.333333</td>\n    </tr>\n    <tr>\n      <th>36</th>\n      <td>50_100_6.txt</td>\n      <td>1348.887952</td>\n      <td>1212.0</td>\n      <td>1224.304348</td>\n    </tr>\n    <tr>\n      <th>37</th>\n      <td>50_100_7.txt</td>\n      <td>684.000000</td>\n      <td>684.0</td>\n      <td>684.000000</td>\n    </tr>\n    <tr>\n      <th>38</th>\n      <td>50_100_8.txt</td>\n      <td>761.942667</td>\n      <td>741.0</td>\n      <td>742.625000</td>\n    </tr>\n    <tr>\n      <th>39</th>\n      <td>50_100_9.txt</td>\n      <td>1211.587550</td>\n      <td>1199.0</td>\n      <td>1202.826087</td>\n    </tr>\n  </tbody>\n</table>\n</div>"
     },
     "metadata": {},
     "execution_count": 13
    }
   ],
   "source": [
    "last_result = os.listdir(f'results/trabalho1/')[-1]\n",
    "last_result_df = pd.read_csv(f'results/trabalho1/{last_result}')\n",
    "last_result_df"
   ]
  },
  {
   "cell_type": "code",
   "execution_count": null,
   "metadata": {},
   "outputs": [],
   "source": []
  }
 ]
}